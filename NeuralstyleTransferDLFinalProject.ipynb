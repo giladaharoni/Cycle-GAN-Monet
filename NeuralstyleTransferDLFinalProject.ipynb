{
  "cells": [
    {
      "attachments": {},
      "cell_type": "markdown",
      "metadata": {
        "id": "Q_3xhzOnAE66"
      },
      "source": [
        "# Neural style transfer - BIU deep learning final project"
      ]
    },
    {
      "cell_type": "markdown",
      "metadata": {
        "id": "kM_g0Q5bhFrE"
      },
      "source": [
        "as learned from https://keras.io/examples/generative/neural_style_transfer/"
      ]
    },
    {
      "cell_type": "markdown",
      "metadata": {
        "id": "98PdumfOJWbB"
      },
      "source": [
        "# setting - imports and files"
      ]
    },
    {
      "cell_type": "code",
      "execution_count": null,
      "metadata": {
        "id": "8L_j572d5R8i"
      },
      "outputs": [],
      "source": [
        "import torch\n",
        "import numpy as np\n",
        "from torchvision import datasets, transforms\n",
        "import matplotlib.pyplot as plt\n",
        "import tensorflow as tf\n",
        "from tensorflow import keras\n",
        "from keras.applications import vgg19"
      ]
    },
    {
      "cell_type": "code",
      "execution_count": null,
      "metadata": {
        "colab": {
          "base_uri": "https://localhost:8080/"
        },
        "id": "HZOoWwL5CzFK",
        "outputId": "6180c28b-21cb-46a6-fa07-72058fdad319"
      },
      "outputs": [
        {
          "data": {
            "text/plain": [
              "['/content/monet-30/0a5075d42a.jpg',\n",
              " '/content/monet-30/4b0adf7c6f.jpg',\n",
              " '/content/monet-30/4c74254ad3.jpg',\n",
              " '/content/monet-30/4f4de0bbba.jpg',\n",
              " '/content/monet-30/6bbe0e63c6.jpg',\n",
              " '/content/monet-30/6d0e87f557.jpg',\n",
              " '/content/monet-30/11be65b3e9.jpg',\n",
              " '/content/monet-30/51bdd25f76.jpg',\n",
              " '/content/monet-30/89d970411d.jpg',\n",
              " '/content/monet-30/89fcbf2f76.jpg',\n",
              " '/content/monet-30/95a53d7b0b.jpg',\n",
              " '/content/monet-30/4260d1c556.jpg',\n",
              " '/content/monet-30/7017e6caa1.jpg',\n",
              " '/content/monet-30/910610e827.jpg',\n",
              " '/content/monet-30/4660310c3e.jpg',\n",
              " '/content/monet-30/a06b54dfe9.jpg',\n",
              " '/content/monet-30/b5c2fe7c4c.jpg',\n",
              " '/content/monet-30/b76d52e05a.jpg',\n",
              " '/content/monet-30/bf6db09354.jpg',\n",
              " '/content/monet-30/d9e8704878.jpg',\n",
              " '/content/monet-30/d729785cb8.jpg',\n",
              " '/content/monet-30/d4116437bb.jpg',\n",
              " '/content/monet-30/dcab49d080.jpg',\n",
              " '/content/monet-30/dcf5ea1040.jpg',\n",
              " '/content/monet-30/dd46691bd7.jpg',\n",
              " '/content/monet-30/e291f8144f.jpg',\n",
              " '/content/monet-30/eb3cc5c559.jpg',\n",
              " '/content/monet-30/f0d789c4bc.jpg',\n",
              " '/content/monet-30/fb3b06dcb2.jpg',\n",
              " '/content/monet-30/fdf1530d95.jpg']"
            ]
          },
          "execution_count": 2,
          "metadata": {},
          "output_type": "execute_result"
        }
      ],
      "source": [
        "import gdown\n",
        "url = \"https://drive.google.com/drive/u/1/folders/1zbdIvBHk9Yrkf46vLe9PhoWK-amV2a8F\"\n",
        "gdown.download_folder(url, quiet=True)"
      ]
    },
    {
      "cell_type": "markdown",
      "metadata": {
        "id": "nmNj1FgSKjSx"
      },
      "source": [
        "# make the neural style transfer"
      ]
    },
    {
      "cell_type": "code",
      "execution_count": null,
      "metadata": {
        "id": "bRaDmbHvmzFx"
      },
      "outputs": [],
      "source": [
        "import os\n",
        "monetCollection = []\n",
        "for (dirpath, dirnames, filenames) in os.walk(\"monet-30\"):\n",
        "    monetCollection.extend(filenames)\n",
        "    break"
      ]
    },
    {
      "cell_type": "markdown",
      "metadata": {
        "id": "CVVKKqcVj6vN"
      },
      "source": [
        "we defined preprocessing and deprocessing functions"
      ]
    },
    {
      "cell_type": "code",
      "execution_count": null,
      "metadata": {
        "id": "q9k4dHrTfbw7"
      },
      "outputs": [],
      "source": [
        "def preprocess_image(image_path):\n",
        "    # Util function to open, resize and format pictures into appropriate tensors\n",
        "    img = keras.preprocessing.image.load_img(\n",
        "        image_path, target_size=(img_nrows, img_ncols)\n",
        "    )\n",
        "    img = keras.preprocessing.image.img_to_array(img)\n",
        "    img = np.expand_dims(img, axis=0)\n",
        "    img = vgg19.preprocess_input(img)\n",
        "    return tf.convert_to_tensor(img)\n",
        "\n",
        "\n",
        "def deprocess_image(x):\n",
        "    # Util function to convert a tensor into a valid image\n",
        "    x = x.reshape((img_nrows, img_ncols, 3))\n",
        "    # Remove zero-center by mean pixel\n",
        "    x[:, :, 0] += 103.939\n",
        "    x[:, :, 1] += 116.779\n",
        "    x[:, :, 2] += 123.68\n",
        "    # 'BGR'->'RGB'\n",
        "    x = x[:, :, ::-1]\n",
        "    x = np.clip(x, 0, 255).astype(\"uint8\")\n",
        "    return x"
      ]
    },
    {
      "cell_type": "markdown",
      "metadata": {
        "id": "jb7dRPCtkHdy"
      },
      "source": [
        "defining loss functions - for the style, content, and the combination"
      ]
    },
    {
      "cell_type": "code",
      "execution_count": null,
      "metadata": {
        "id": "yEJM0dlyKoBQ"
      },
      "outputs": [],
      "source": [
        "img_nrows = 320\n",
        "img_ncols = int(256 * img_nrows / 256)\n",
        "\n",
        "def gram_matrix(x):\n",
        "    x = tf.transpose(x, (2, 0, 1))\n",
        "    features = tf.reshape(x, (tf.shape(x)[0], -1))\n",
        "    gram = tf.matmul(features, tf.transpose(features))\n",
        "    return gram\n",
        "\n",
        "def style_loss(style, combination):\n",
        "    S = gram_matrix(style)\n",
        "    C = gram_matrix(combination)\n",
        "    channels = 3\n",
        "    size = img_nrows * img_ncols\n",
        "    return tf.reduce_sum(tf.square(S - C)) / (4.0 * (channels**2) * (size**2))\n",
        "  \n",
        "def content_loss(base, combination):\n",
        "    return tf.reduce_sum(tf.square(combination - base))\n",
        "\n",
        "def total_variation_loss(x):\n",
        "    a = tf.square(\n",
        "        x[:, : img_nrows - 1, : img_ncols - 1, :] - x[:, 1:, : img_ncols - 1, :]\n",
        "    )\n",
        "    b = tf.square(\n",
        "        x[:, : img_nrows - 1, : img_ncols - 1, :] - x[:, : img_nrows - 1, 1:, :]\n",
        "    )\n",
        "    return tf.reduce_sum(tf.pow(a + b, 1.25))"
      ]
    },
    {
      "cell_type": "markdown",
      "metadata": {
        "id": "Ij-Hb53Uka6v"
      },
      "source": [
        "for this experiment we used VGG19 pre trained model"
      ]
    },
    {
      "cell_type": "code",
      "execution_count": null,
      "metadata": {
        "colab": {
          "base_uri": "https://localhost:8080/"
        },
        "id": "Dt_kH3AdMdqU",
        "outputId": "7e2f1ad4-3e55-479d-994d-b480993db83b"
      },
      "outputs": [
        {
          "name": "stdout",
          "output_type": "stream",
          "text": [
            "Downloading data from https://storage.googleapis.com/tensorflow/keras-applications/vgg19/vgg19_weights_tf_dim_ordering_tf_kernels_notop.h5\n",
            "80134624/80134624 [==============================] - 2s 0us/step\n"
          ]
        }
      ],
      "source": [
        "model = vgg19.VGG19(weights=\"imagenet\", include_top=False)\n",
        "\n",
        "outputs_dict = dict([(layer.name, layer.output) for layer in model.layers])\n",
        "\n",
        "feature_extractor = keras.Model(inputs=model.inputs, outputs=outputs_dict)"
      ]
    },
    {
      "cell_type": "code",
      "execution_count": null,
      "metadata": {
        "id": "TXY-JSjNMmdD"
      },
      "outputs": [],
      "source": [
        "style_layer_names = [\n",
        "    \"block1_conv1\",\n",
        "    \"block2_conv1\",\n",
        "    \"block3_conv1\",\n",
        "    \"block4_conv1\",\n",
        "    \"block5_conv1\",\n",
        "]\n",
        "content_layer_name = \"block5_conv2\"\n",
        "\n",
        "total_variation_weight = 1e-6\n",
        "style_weight = 1e-6\n",
        "content_weight = 2.5e-8\n",
        "\n",
        "def compute_loss(combination_image, base_image, style_reference_image):\n",
        "    # can be input tensor of [base img, [...style imgs]*30, combi]\n",
        "    input_tensor = tf.concat(\n",
        "        [base_image, style_reference_image, combination_image], axis=0\n",
        "    )\n",
        "    features = feature_extractor(input_tensor)\n",
        "\n",
        "    # Initialize the loss\n",
        "    loss = tf.zeros(shape=())\n",
        "\n",
        "    # Add content loss\n",
        "    layer_features = features[content_layer_name]\n",
        "    base_image_features = layer_features[0, :, :, :]\n",
        "    # combi feature of the last\n",
        "    combination_features = layer_features[2, :, :, :]\n",
        "    loss = loss + content_weight * content_loss(\n",
        "        base_image_features, combination_features\n",
        "    )\n",
        "    # Add style loss\n",
        "    for layer_name in style_layer_names:\n",
        "        # for each layer we compute loss for the 30 styles\n",
        "        layer_features = features[layer_name]\n",
        "        #      put in for loop for each style from this: (replace 1 in the index)\n",
        "        style_reference_features = layer_features[1, :, :, :]\n",
        "        combination_features = layer_features[2, :, :, :]\n",
        "        sl = style_loss(style_reference_features, combination_features)\n",
        "        loss += (style_weight / len(style_layer_names)) * sl\n",
        "        #      to this\n",
        "\n",
        "    # Add total variation loss\n",
        "    loss += total_variation_weight * total_variation_loss(combination_image)\n",
        "    return loss"
      ]
    },
    {
      "cell_type": "code",
      "execution_count": null,
      "metadata": {
        "id": "W1RPXQGnM1v5"
      },
      "outputs": [],
      "source": [
        "@tf.function\n",
        "def compute_loss_and_grads(combination_image, base_image, style_reference_image):\n",
        "    with tf.GradientTape() as tape:\n",
        "        loss = compute_loss(combination_image, base_image, style_reference_image)\n",
        "    grads = tape.gradient(loss, combination_image)\n",
        "    return loss, grads"
      ]
    },
    {
      "cell_type": "code",
      "execution_count": null,
      "metadata": {
        "id": "HPmZ9zl6M3VP"
      },
      "outputs": [],
      "source": [
        "optimizer = keras.optimizers.SGD(\n",
        "    keras.optimizers.schedules.ExponentialDecay(\n",
        "        initial_learning_rate=100.0, decay_steps=100, decay_rate=0.99\n",
        "    )\n",
        ")"
      ]
    },
    {
      "cell_type": "markdown",
      "metadata": {
        "id": "IWdIPxxOkq-r"
      },
      "source": [
        "Experiment one - choose only 1 style image from the monet directory. we choose it by histogram compartion"
      ]
    },
    {
      "cell_type": "code",
      "execution_count": null,
      "metadata": {
        "id": "5G9YVMNSj3aG"
      },
      "outputs": [],
      "source": [
        "def generate_specific_style(base_image_path, style_reference_image_path, iterations, result_name):\n",
        "  base_image = preprocess_image(base_image_path)\n",
        "  combination_image = tf.Variable(preprocess_image(base_image_path))\n",
        "  losses = []\n",
        "  for i in range(1, iterations + 1):\n",
        "      style_reference_image = preprocess_image(style_reference_image_path)\n",
        "      loss, grads = compute_loss_and_grads(\n",
        "          combination_image, base_image, style_reference_image\n",
        "      )\n",
        "      optimizer.apply_gradients([(grads, combination_image)]) \n",
        "      losses.append(float(loss))\n",
        "      print(\"epoch no.\",i,\", the loss is\", float(loss))  \n",
        "  img = deprocess_image(combination_image.numpy())\n",
        "  return losses, img"
      ]
    },
    {
      "cell_type": "code",
      "execution_count": null,
      "metadata": {
        "id": "rJIoerKbljJu"
      },
      "outputs": [],
      "source": [
        "def histogram_compare(image1, image2):\n",
        "  hist1_red, _ = np.histogram(image1[:,:,0], bins=256, range=(0, 255))\n",
        "  hist1_green, _ = np.histogram(image1[:,:,1], bins=256, range=(0, 255))\n",
        "  hist1_blue, _ = np.histogram(image1[:,:,2], bins=256, range=(0, 255))\n",
        "\n",
        "  hist2_red, _ = np.histogram(image2[:,:,0], bins=256, range=(0, 255))\n",
        "  hist2_green, _ = np.histogram(image2[:,:,1], bins=256, range=(0, 255))\n",
        "  hist2_blue, _ = np.histogram(image2[:,:,2], bins=256, range=(0, 255))\n",
        "\n",
        "  # Concatenate the histograms for each color channel into a single feature vector for each image\n",
        "  hist1 = np.concatenate([hist1_red, hist1_green, hist1_blue])\n",
        "  hist2 = np.concatenate([hist2_red, hist2_green, hist2_blue])\n",
        "\n",
        "  # Compute the chi-squared distance between the two histograms\n",
        "  d = np.sum((hist1 - hist2)**2 / (hist1 + hist2 + 1e-10)) / 2.0\n",
        "  return d"
      ]
    },
    {
      "cell_type": "code",
      "execution_count": null,
      "metadata": {
        "id": "bBNCyT0H1pJn"
      },
      "outputs": [],
      "source": [
        "def picking_style(photo_path):\n",
        "  photo1 = preprocess_image(photo_path)\n",
        "  mina = float('inf')\n",
        "  style_choose = ''\n",
        "  for style in monetCollection:\n",
        "    monet = preprocess_image(\"/content/monet-30/\"+style)\n",
        "    tis = histogram_compare(monet,photo1)\n",
        "    if tis < mina:\n",
        "      mina = tis\n",
        "      style_choose = style\n",
        "  return \"/content/monet-30/\"+style_choose\n"
      ]
    },
    {
      "cell_type": "markdown",
      "metadata": {
        "id": "MaAvSZKYmIbk"
      },
      "source": [
        "Experiment Two - using all the 30 images, each one in another step. for this we multiply the number of steps in 30"
      ]
    },
    {
      "cell_type": "code",
      "execution_count": null,
      "metadata": {
        "id": "yVyiy-MumaNa"
      },
      "outputs": [],
      "source": [
        "def generate_wholistic_style(base_image_path, style_reference_image_path, iterations, result_name):\n",
        "  base_image = preprocess_image(base_image_path)\n",
        "  combination_image = tf.Variable(preprocess_image(base_image_path))\n",
        "  losses = []\n",
        "  average_loss = []\n",
        "  for i in range(1, iterations*30 + 1):\n",
        "      style_reference_image = preprocess_image(style_reference_image_path[i%30])\n",
        "      loss, grads = compute_loss_and_grads(\n",
        "          combination_image, base_image, style_reference_image\n",
        "      )\n",
        "      optimizer.apply_gradients([(grads, combination_image)]) \n",
        "      average_loss.append(float(loss))\n",
        "      if (i % 30)==0:\n",
        "        avg_loss = sum(average_loss)/30\n",
        "        losses.append(avg_loss)\n",
        "        print(\"epoch no.\",i,\", the loss is\", avg_loss) \n",
        "        average_loss = [] \n",
        "  img = deprocess_image(combination_image.numpy())\n",
        "  return losses, img"
      ]
    },
    {
      "cell_type": "markdown",
      "metadata": {
        "id": "-tP6KYoCfp13"
      },
      "source": [
        "## testing the model:"
      ]
    },
    {
      "cell_type": "markdown",
      "metadata": {
        "id": "wHKlKFGqftjs"
      },
      "source": [
        "for single style image - upload onlly singke image!"
      ]
    },
    {
      "cell_type": "code",
      "execution_count": null,
      "metadata": {
        "colab": {
          "base_uri": "https://localhost:8080/",
          "height": 73
        },
        "id": "DH9pTd4sApBJ",
        "outputId": "7545d8c7-316c-4231-cabd-9a5b7f9900ea"
      },
      "outputs": [
        {
          "data": {
            "text/html": [
              "\n",
              "     <input type=\"file\" id=\"files-6620325c-3551-4a39-b02c-e8571f22d775\" name=\"files[]\" multiple disabled\n",
              "        style=\"border:none\" />\n",
              "     <output id=\"result-6620325c-3551-4a39-b02c-e8571f22d775\">\n",
              "      Upload widget is only available when the cell has been executed in the\n",
              "      current browser session. Please rerun this cell to enable.\n",
              "      </output>\n",
              "      <script>// Copyright 2017 Google LLC\n",
              "//\n",
              "// Licensed under the Apache License, Version 2.0 (the \"License\");\n",
              "// you may not use this file except in compliance with the License.\n",
              "// You may obtain a copy of the License at\n",
              "//\n",
              "//      http://www.apache.org/licenses/LICENSE-2.0\n",
              "//\n",
              "// Unless required by applicable law or agreed to in writing, software\n",
              "// distributed under the License is distributed on an \"AS IS\" BASIS,\n",
              "// WITHOUT WARRANTIES OR CONDITIONS OF ANY KIND, either express or implied.\n",
              "// See the License for the specific language governing permissions and\n",
              "// limitations under the License.\n",
              "\n",
              "/**\n",
              " * @fileoverview Helpers for google.colab Python module.\n",
              " */\n",
              "(function(scope) {\n",
              "function span(text, styleAttributes = {}) {\n",
              "  const element = document.createElement('span');\n",
              "  element.textContent = text;\n",
              "  for (const key of Object.keys(styleAttributes)) {\n",
              "    element.style[key] = styleAttributes[key];\n",
              "  }\n",
              "  return element;\n",
              "}\n",
              "\n",
              "// Max number of bytes which will be uploaded at a time.\n",
              "const MAX_PAYLOAD_SIZE = 100 * 1024;\n",
              "\n",
              "function _uploadFiles(inputId, outputId) {\n",
              "  const steps = uploadFilesStep(inputId, outputId);\n",
              "  const outputElement = document.getElementById(outputId);\n",
              "  // Cache steps on the outputElement to make it available for the next call\n",
              "  // to uploadFilesContinue from Python.\n",
              "  outputElement.steps = steps;\n",
              "\n",
              "  return _uploadFilesContinue(outputId);\n",
              "}\n",
              "\n",
              "// This is roughly an async generator (not supported in the browser yet),\n",
              "// where there are multiple asynchronous steps and the Python side is going\n",
              "// to poll for completion of each step.\n",
              "// This uses a Promise to block the python side on completion of each step,\n",
              "// then passes the result of the previous step as the input to the next step.\n",
              "function _uploadFilesContinue(outputId) {\n",
              "  const outputElement = document.getElementById(outputId);\n",
              "  const steps = outputElement.steps;\n",
              "\n",
              "  const next = steps.next(outputElement.lastPromiseValue);\n",
              "  return Promise.resolve(next.value.promise).then((value) => {\n",
              "    // Cache the last promise value to make it available to the next\n",
              "    // step of the generator.\n",
              "    outputElement.lastPromiseValue = value;\n",
              "    return next.value.response;\n",
              "  });\n",
              "}\n",
              "\n",
              "/**\n",
              " * Generator function which is called between each async step of the upload\n",
              " * process.\n",
              " * @param {string} inputId Element ID of the input file picker element.\n",
              " * @param {string} outputId Element ID of the output display.\n",
              " * @return {!Iterable<!Object>} Iterable of next steps.\n",
              " */\n",
              "function* uploadFilesStep(inputId, outputId) {\n",
              "  const inputElement = document.getElementById(inputId);\n",
              "  inputElement.disabled = false;\n",
              "\n",
              "  const outputElement = document.getElementById(outputId);\n",
              "  outputElement.innerHTML = '';\n",
              "\n",
              "  const pickedPromise = new Promise((resolve) => {\n",
              "    inputElement.addEventListener('change', (e) => {\n",
              "      resolve(e.target.files);\n",
              "    });\n",
              "  });\n",
              "\n",
              "  const cancel = document.createElement('button');\n",
              "  inputElement.parentElement.appendChild(cancel);\n",
              "  cancel.textContent = 'Cancel upload';\n",
              "  const cancelPromise = new Promise((resolve) => {\n",
              "    cancel.onclick = () => {\n",
              "      resolve(null);\n",
              "    };\n",
              "  });\n",
              "\n",
              "  // Wait for the user to pick the files.\n",
              "  const files = yield {\n",
              "    promise: Promise.race([pickedPromise, cancelPromise]),\n",
              "    response: {\n",
              "      action: 'starting',\n",
              "    }\n",
              "  };\n",
              "\n",
              "  cancel.remove();\n",
              "\n",
              "  // Disable the input element since further picks are not allowed.\n",
              "  inputElement.disabled = true;\n",
              "\n",
              "  if (!files) {\n",
              "    return {\n",
              "      response: {\n",
              "        action: 'complete',\n",
              "      }\n",
              "    };\n",
              "  }\n",
              "\n",
              "  for (const file of files) {\n",
              "    const li = document.createElement('li');\n",
              "    li.append(span(file.name, {fontWeight: 'bold'}));\n",
              "    li.append(span(\n",
              "        `(${file.type || 'n/a'}) - ${file.size} bytes, ` +\n",
              "        `last modified: ${\n",
              "            file.lastModifiedDate ? file.lastModifiedDate.toLocaleDateString() :\n",
              "                                    'n/a'} - `));\n",
              "    const percent = span('0% done');\n",
              "    li.appendChild(percent);\n",
              "\n",
              "    outputElement.appendChild(li);\n",
              "\n",
              "    const fileDataPromise = new Promise((resolve) => {\n",
              "      const reader = new FileReader();\n",
              "      reader.onload = (e) => {\n",
              "        resolve(e.target.result);\n",
              "      };\n",
              "      reader.readAsArrayBuffer(file);\n",
              "    });\n",
              "    // Wait for the data to be ready.\n",
              "    let fileData = yield {\n",
              "      promise: fileDataPromise,\n",
              "      response: {\n",
              "        action: 'continue',\n",
              "      }\n",
              "    };\n",
              "\n",
              "    // Use a chunked sending to avoid message size limits. See b/62115660.\n",
              "    let position = 0;\n",
              "    do {\n",
              "      const length = Math.min(fileData.byteLength - position, MAX_PAYLOAD_SIZE);\n",
              "      const chunk = new Uint8Array(fileData, position, length);\n",
              "      position += length;\n",
              "\n",
              "      const base64 = btoa(String.fromCharCode.apply(null, chunk));\n",
              "      yield {\n",
              "        response: {\n",
              "          action: 'append',\n",
              "          file: file.name,\n",
              "          data: base64,\n",
              "        },\n",
              "      };\n",
              "\n",
              "      let percentDone = fileData.byteLength === 0 ?\n",
              "          100 :\n",
              "          Math.round((position / fileData.byteLength) * 100);\n",
              "      percent.textContent = `${percentDone}% done`;\n",
              "\n",
              "    } while (position < fileData.byteLength);\n",
              "  }\n",
              "\n",
              "  // All done.\n",
              "  yield {\n",
              "    response: {\n",
              "      action: 'complete',\n",
              "    }\n",
              "  };\n",
              "}\n",
              "\n",
              "scope.google = scope.google || {};\n",
              "scope.google.colab = scope.google.colab || {};\n",
              "scope.google.colab._files = {\n",
              "  _uploadFiles,\n",
              "  _uploadFilesContinue,\n",
              "};\n",
              "})(self);\n",
              "</script> "
            ],
            "text/plain": [
              "<IPython.core.display.HTML object>"
            ]
          },
          "metadata": {},
          "output_type": "display_data"
        },
        {
          "name": "stdout",
          "output_type": "stream",
          "text": [
            "Saving fdf57fbe60.jpg to fdf57fbe60.jpg\n"
          ]
        }
      ],
      "source": [
        "from google.colab import files\n",
        "picture = files.upload()\n"
      ]
    },
    {
      "cell_type": "code",
      "execution_count": null,
      "metadata": {
        "id": "J838eW6YD7U3"
      },
      "outputs": [],
      "source": [
        "picture_path = list(picture.keys())[0]"
      ]
    },
    {
      "cell_type": "code",
      "execution_count": null,
      "metadata": {
        "colab": {
          "base_uri": "https://localhost:8080/"
        },
        "id": "MX9jmO8ICS17",
        "outputId": "ef89792b-2160-40d5-9259-8ed91e19f5c1"
      },
      "outputs": [
        {
          "name": "stdout",
          "output_type": "stream",
          "text": [
            "epoch no. 1 , the loss is 15835.029296875\n"
          ]
        }
      ],
      "source": [
        "_,stylized = generate_specific_style(picture_path, picking_style(picture_path),150,picture_path)"
      ]
    },
    {
      "cell_type": "code",
      "execution_count": null,
      "metadata": {
        "colab": {
          "base_uri": "https://localhost:8080/",
          "height": 286
        },
        "id": "b22444rfCmMH",
        "outputId": "34dc3a55-f6a0-4f3f-8df3-fedf334d7608"
      },
      "outputs": [
        {
          "data": {
            "text/plain": [
              "<matplotlib.image.AxesImage at 0x7fa8513ab9d0>"
            ]
          },
          "execution_count": 25,
          "metadata": {},
          "output_type": "execute_result"
        },
        {
          "data": {
            "image/png": "[encoded data removed]",
            "text/plain": [
              "<Figure size 432x288 with 1 Axes>"
            ]
          },
          "metadata": {
            "needs_background": "light"
          },
          "output_type": "display_data"
        }
      ],
      "source": [
        "plt.imshow(stylized)"
      ]
    }
  ],
  "metadata": {
    "accelerator": "TPU",
    "colab": {
      "provenance": []
    },
    "gpuClass": "standard",
    "kernelspec": {
      "display_name": "Python 3",
      "name": "python3"
    },
    "language_info": {
      "name": "python"
    }
  },
  "nbformat": 4,
  "nbformat_minor": 0
}
